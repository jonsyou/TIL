{
  "nbformat": 4,
  "nbformat_minor": 0,
  "metadata": {
    "colab": {
      "name": "Untitled20.ipynb",
      "provenance": [],
      "authorship_tag": "ABX9TyP97xLmwEps7p+tpnTuJoEd"
    },
    "kernelspec": {
      "name": "python3",
      "display_name": "Python 3"
    },
    "language_info": {
      "name": "python"
    }
  },
  "cells": [
    {
      "cell_type": "code",
      "metadata": {
        "colab": {
          "base_uri": "https://localhost:8080/"
        },
        "id": "cAsUXtxrGaw1",
        "outputId": "0bdc9d50-57ba-4060-bf30-81a31611c621"
      },
      "source": [
        "from google.colab import drive\n",
        "drive.mount('/content/drive')"
      ],
      "execution_count": 1,
      "outputs": [
        {
          "output_type": "stream",
          "text": [
            "Drive already mounted at /content/drive; to attempt to forcibly remount, call drive.mount(\"/content/drive\", force_remount=True).\n"
          ],
          "name": "stdout"
        }
      ]
    },
    {
      "cell_type": "code",
      "metadata": {
        "id": "1gKQ72g4Ghd1"
      },
      "source": [
        "import pandas as pd\n",
        "import numpy as np\n",
        "\n",
        "train = pd.read_csv('/content/drive/MyDrive/DACON/M_D_14/data/train.csv')\n",
        "train.fillna('NAN', inplace=True) \n",
        "train['credit'] = train['credit'].astype('object')\n",
        "\n",
        "test = pd.read_csv('/content/drive/MyDrive/DACON/M_D_14/data/test.csv')\n",
        "test.fillna('NAN', inplace=True) \n",
        "\n",
        "submission = pd.read_csv('/content/drive/MyDrive/DACON/M_D_14/data/sample_submission.csv')"
      ],
      "execution_count": 70,
      "outputs": []
    },
    {
      "cell_type": "code",
      "metadata": {
        "colab": {
          "base_uri": "https://localhost:8080/"
        },
        "id": "f7xCQU66IH67",
        "outputId": "bdfd2b3c-60e2-4bf3-f674-f533f5bb078c"
      },
      "source": [
        "train.info()"
      ],
      "execution_count": 71,
      "outputs": [
        {
          "output_type": "stream",
          "text": [
            "<class 'pandas.core.frame.DataFrame'>\n",
            "RangeIndex: 26457 entries, 0 to 26456\n",
            "Data columns (total 20 columns):\n",
            " #   Column         Non-Null Count  Dtype  \n",
            "---  ------         --------------  -----  \n",
            " 0   index          26457 non-null  int64  \n",
            " 1   gender         26457 non-null  object \n",
            " 2   car            26457 non-null  object \n",
            " 3   reality        26457 non-null  object \n",
            " 4   child_num      26457 non-null  int64  \n",
            " 5   income_total   26457 non-null  float64\n",
            " 6   income_type    26457 non-null  object \n",
            " 7   edu_type       26457 non-null  object \n",
            " 8   family_type    26457 non-null  object \n",
            " 9   house_type     26457 non-null  object \n",
            " 10  DAYS_BIRTH     26457 non-null  int64  \n",
            " 11  DAYS_EMPLOYED  26457 non-null  int64  \n",
            " 12  FLAG_MOBIL     26457 non-null  int64  \n",
            " 13  work_phone     26457 non-null  int64  \n",
            " 14  phone          26457 non-null  int64  \n",
            " 15  email          26457 non-null  int64  \n",
            " 16  occyp_type     26457 non-null  object \n",
            " 17  family_size    26457 non-null  float64\n",
            " 18  begin_month    26457 non-null  float64\n",
            " 19  credit         26457 non-null  object \n",
            "dtypes: float64(3), int64(8), object(9)\n",
            "memory usage: 4.0+ MB\n"
          ],
          "name": "stdout"
        }
      ]
    },
    {
      "cell_type": "code",
      "metadata": {
        "id": "ubhtC2-7fkC2"
      },
      "source": [
        "train['work_phone'] = train['work_phone'].astype('object')\n",
        "train['phone'] = train['phone'].astype('object')\n",
        "train['email'] = train['email'].astype('object')\n",
        "train['child_num'] = train['child_num'].astype('object')\n",
        "train['family_size'] = train['family_size'].astype('object')\n",
        "\n",
        "test['work_phone'] = test['work_phone'].astype('object')\n",
        "test['phone'] = test['phone'].astype('object')\n",
        "test['email'] = test['email'].astype('object')\n",
        "test['child_num'] = test['child_num'].astype('object')\n",
        "test['family_size'] = test['family_size'].astype('object')\n",
        "\n",
        "# DAYS_EMPLOYED\n",
        "train['DAYS_EMPLOYED'] = [abs(i) if i <= 0 else 0 for i in train.DAYS_EMPLOYED]\n",
        "test['DAYS_EMPLOYED'] = [abs(i) if i <= 0 else 0 for i in test.DAYS_EMPLOYED]\n",
        "\n",
        "# DAYS_BIRTH 양수화 하기\n",
        "train['DAYS_BIRTH'] = train['DAYS_BIRTH'].apply(lambda x : abs(x))\n",
        "test['DAYS_BIRTH'] = test['DAYS_BIRTH'].apply(lambda x : abs(x))\n",
        "\n",
        "train.drop(['index','FLAG_MOBIL'],axis=1,inplace=True)\n",
        "test.drop(['index','FLAG_MOBIL'],axis=1,inplace=True)\n",
        "\n",
        "drop_index = train[train['family_size']>7].index # family_size가 8이상인 행 제거 (5행)\n",
        "train.drop(drop_index,axis=0,inplace=True)"
      ],
      "execution_count": 72,
      "outputs": []
    },
    {
      "cell_type": "code",
      "metadata": {
        "colab": {
          "base_uri": "https://localhost:8080/",
          "height": 510
        },
        "id": "nsWFNoDwbNh7",
        "outputId": "ae5a72d2-869a-4710-ef6f-ea204f366ddf"
      },
      "source": [
        "from plotnine import *\n",
        "\n",
        "ggplot(data=train) + geom_bar(mapping = aes(x='family_size',fill='credit'),position=\"fill\")"
      ],
      "execution_count": 73,
      "outputs": [
        {
          "output_type": "stream",
          "text": [
            "/usr/local/lib/python3.7/dist-packages/plotnine/utils.py:1246: FutureWarning: is_categorical is deprecated and will be removed in a future version.  Use is_categorical_dtype instead\n",
            "  if pdtypes.is_categorical(arr):\n"
          ],
          "name": "stderr"
        },
        {
          "output_type": "display_data",
          "data": {
            "image/png": "[encoded data removed]",
            "text/plain": [
              "<Figure size 640x480 with 1 Axes>"
            ]
          },
          "metadata": {
            "tags": []
          }
        },
        {
          "output_type": "execute_result",
          "data": {
            "text/plain": [
              "<ggplot: (8758792763945)>"
            ]
          },
          "metadata": {
            "tags": []
          },
          "execution_count": 73
        }
      ]
    },
    {
      "cell_type": "code",
      "metadata": {
        "colab": {
          "base_uri": "https://localhost:8080/",
          "height": 510
        },
        "id": "ut1j1cC9b9Ju",
        "outputId": "9326dec3-151b-49c6-ff5d-c8ba3a122226"
      },
      "source": [
        "ggplot(data=train) + geom_bar(mapping = aes(x='child_num',fill='credit'),position=\"fill\")"
      ],
      "execution_count": 74,
      "outputs": [
        {
          "output_type": "stream",
          "text": [
            "/usr/local/lib/python3.7/dist-packages/plotnine/utils.py:1246: FutureWarning: is_categorical is deprecated and will be removed in a future version.  Use is_categorical_dtype instead\n",
            "  if pdtypes.is_categorical(arr):\n"
          ],
          "name": "stderr"
        },
        {
          "output_type": "display_data",
          "data": {
            "image/png": "[encoded data removed]",
            "text/plain": [
              "<Figure size 640x480 with 1 Axes>"
            ]
          },
          "metadata": {
            "tags": []
          }
        },
        {
          "output_type": "execute_result",
          "data": {
            "text/plain": [
              "<ggplot: (8758792821401)>"
            ]
          },
          "metadata": {
            "tags": []
          },
          "execution_count": 74
        }
      ]
    },
    {
      "cell_type": "code",
      "metadata": {
        "colab": {
          "base_uri": "https://localhost:8080/"
        },
        "id": "ojvncs3raZJL",
        "outputId": "71ab1c16-10c2-4791-ab94-537f32212b03"
      },
      "source": [
        "import scipy.stats as stats\n",
        "drop_col = []\n",
        "\n",
        "for i in train.columns[:-1]:\n",
        "  if train[i].dtype == \"object\":\n",
        "    result = pd.crosstab(train[i],train.credit)\n",
        "    temp = stats.chi2_contingency(observed = result)\n",
        "    if temp[1] < 0.05 :\n",
        "      print(\"P-value of \",i,\" : \",temp[1])\n",
        "      print(f\"변수 {i}는 유의미하다고 판단\")\n",
        "      print()\n",
        "    else :\n",
        "      print(\"P-value of \",i,\" : \",temp[1])\n",
        "      print(f\"변수 {i}는 유의미하지 않다고 판단\")\n",
        "      drop_col.append(i)\n",
        "      print()"
      ],
      "execution_count": 75,
      "outputs": [
        {
          "output_type": "stream",
          "text": [
            "P-value of  gender  :  0.6898084801717057\n",
            "변수 gender는 유의미하지 않다고 판단\n",
            "\n",
            "P-value of  car  :  0.009250354185794922\n",
            "변수 car는 유의미하다고 판단\n",
            "\n",
            "P-value of  reality  :  0.0036423044938468274\n",
            "변수 reality는 유의미하다고 판단\n",
            "\n",
            "P-value of  child_num  :  0.02945805403659644\n",
            "변수 child_num는 유의미하다고 판단\n",
            "\n",
            "P-value of  income_type  :  0.002475172243333528\n",
            "변수 income_type는 유의미하다고 판단\n",
            "\n",
            "P-value of  edu_type  :  0.35193976060271304\n",
            "변수 edu_type는 유의미하지 않다고 판단\n",
            "\n",
            "P-value of  family_type  :  2.0095682203604695e-07\n",
            "변수 family_type는 유의미하다고 판단\n",
            "\n",
            "P-value of  house_type  :  4.236293337715571e-05\n",
            "변수 house_type는 유의미하다고 판단\n",
            "\n",
            "P-value of  work_phone  :  0.8245374253187459\n",
            "변수 work_phone는 유의미하지 않다고 판단\n",
            "\n",
            "P-value of  phone  :  0.01835558351068146\n",
            "변수 phone는 유의미하다고 판단\n",
            "\n",
            "P-value of  email  :  0.047179420502868274\n",
            "변수 email는 유의미하다고 판단\n",
            "\n",
            "P-value of  occyp_type  :  1.4220222285962786e-06\n",
            "변수 occyp_type는 유의미하다고 판단\n",
            "\n",
            "P-value of  family_size  :  9.706223823608979e-05\n",
            "변수 family_size는 유의미하다고 판단\n",
            "\n"
          ],
          "name": "stdout"
        }
      ]
    },
    {
      "cell_type": "code",
      "metadata": {
        "colab": {
          "base_uri": "https://localhost:8080/"
        },
        "id": "bkiBKEIrabxk",
        "outputId": "dd6320be-7bb4-432a-9c3c-1d2268df4dd0"
      },
      "source": [
        "for i in train.columns[:-1]:\n",
        "  if train[i].dtype != \"object\":\n",
        "    temp = stats.pearsonr(train[i],train.credit)\n",
        "    if temp[1] < 0.05 :\n",
        "      print(\"P-value of \",i,\" : \",temp[1])\n",
        "      print(f\"변수 {i}는 유의미하다고 판단\")\n",
        "      print()\n",
        "    else :\n",
        "      print(\"P-value of \",i,\" : \",temp[1])\n",
        "      print(f\"변수 {i}는 유의미하지 않다고 판단\")\n",
        "      drop_col.append(i)\n",
        "      print()"
      ],
      "execution_count": 76,
      "outputs": [
        {
          "output_type": "stream",
          "text": [
            "P-value of  income_total  :  0.16383410024595452\n",
            "변수 income_total는 유의미하지 않다고 판단\n",
            "\n",
            "P-value of  DAYS_BIRTH  :  4.114627221755541e-05\n",
            "변수 DAYS_BIRTH는 유의미하다고 판단\n",
            "\n",
            "P-value of  DAYS_EMPLOYED  :  0.000200948586531389\n",
            "변수 DAYS_EMPLOYED는 유의미하다고 판단\n",
            "\n",
            "P-value of  begin_month  :  1.6340141523689052e-128\n",
            "변수 begin_month는 유의미하다고 판단\n",
            "\n"
          ],
          "name": "stdout"
        }
      ]
    },
    {
      "cell_type": "code",
      "metadata": {
        "colab": {
          "base_uri": "https://localhost:8080/"
        },
        "id": "Ko9FTb8DadW-",
        "outputId": "26a4ab02-eb4a-4b51-81d6-f8f2fd69db23"
      },
      "source": [
        "drop_col"
      ],
      "execution_count": 77,
      "outputs": [
        {
          "output_type": "execute_result",
          "data": {
            "text/plain": [
              "['gender', 'edu_type', 'work_phone', 'income_total']"
            ]
          },
          "metadata": {
            "tags": []
          },
          "execution_count": 77
        }
      ]
    },
    {
      "cell_type": "code",
      "metadata": {
        "id": "kw_k2Ol1cbPd"
      },
      "source": [
        "train.drop(drop_col,axis=1,inplace=True)\n",
        "test.drop(drop_col,axis=1,inplace=True)"
      ],
      "execution_count": 78,
      "outputs": []
    },
    {
      "cell_type": "code",
      "metadata": {
        "colab": {
          "base_uri": "https://localhost:8080/"
        },
        "id": "E3EH6t2feDBo",
        "outputId": "f3af7970-aee7-4a68-ace9-11d6d23ab0bf"
      },
      "source": [
        "train.info()"
      ],
      "execution_count": 79,
      "outputs": [
        {
          "output_type": "stream",
          "text": [
            "<class 'pandas.core.frame.DataFrame'>\n",
            "Int64Index: 26451 entries, 0 to 26456\n",
            "Data columns (total 14 columns):\n",
            " #   Column         Non-Null Count  Dtype  \n",
            "---  ------         --------------  -----  \n",
            " 0   car            26451 non-null  object \n",
            " 1   reality        26451 non-null  object \n",
            " 2   child_num      26451 non-null  object \n",
            " 3   income_type    26451 non-null  object \n",
            " 4   family_type    26451 non-null  object \n",
            " 5   house_type     26451 non-null  object \n",
            " 6   DAYS_BIRTH     26451 non-null  int64  \n",
            " 7   DAYS_EMPLOYED  26451 non-null  int64  \n",
            " 8   phone          26451 non-null  object \n",
            " 9   email          26451 non-null  object \n",
            " 10  occyp_type     26451 non-null  object \n",
            " 11  family_size    26451 non-null  object \n",
            " 12  begin_month    26451 non-null  float64\n",
            " 13  credit         26451 non-null  object \n",
            "dtypes: float64(1), int64(2), object(11)\n",
            "memory usage: 3.0+ MB\n"
          ],
          "name": "stdout"
        }
      ]
    },
    {
      "cell_type": "code",
      "metadata": {
        "colab": {
          "base_uri": "https://localhost:8080/",
          "height": 527
        },
        "id": "5zx_uMkaQdMz",
        "outputId": "13223470-4585-48fc-9ffd-c3b408337b17"
      },
      "source": [
        "import matplotlib.pyplot as plt\n",
        "\n",
        "train.hist(figsize=(10,8))\n",
        "\n",
        "plt.tight_layout()\n",
        "plt.show()"
      ],
      "execution_count": 80,
      "outputs": [
        {
          "output_type": "display_data",
          "data": {
            "image/png": "[encoded data removed]",
            "text/plain": [
              "<Figure size 720x576 with 4 Axes>"
            ]
          },
          "metadata": {
            "tags": [],
            "needs_background": "light"
          }
        }
      ]
    },
    {
      "cell_type": "code",
      "metadata": {
        "colab": {
          "base_uri": "https://localhost:8080/"
        },
        "id": "9eska7bthSOI",
        "outputId": "afc8e179-266b-48a4-b6c4-57a55b7c42b2"
      },
      "source": [
        "train.info()"
      ],
      "execution_count": 81,
      "outputs": [
        {
          "output_type": "stream",
          "text": [
            "<class 'pandas.core.frame.DataFrame'>\n",
            "Int64Index: 26451 entries, 0 to 26456\n",
            "Data columns (total 14 columns):\n",
            " #   Column         Non-Null Count  Dtype  \n",
            "---  ------         --------------  -----  \n",
            " 0   car            26451 non-null  object \n",
            " 1   reality        26451 non-null  object \n",
            " 2   child_num      26451 non-null  object \n",
            " 3   income_type    26451 non-null  object \n",
            " 4   family_type    26451 non-null  object \n",
            " 5   house_type     26451 non-null  object \n",
            " 6   DAYS_BIRTH     26451 non-null  int64  \n",
            " 7   DAYS_EMPLOYED  26451 non-null  int64  \n",
            " 8   phone          26451 non-null  object \n",
            " 9   email          26451 non-null  object \n",
            " 10  occyp_type     26451 non-null  object \n",
            " 11  family_size    26451 non-null  object \n",
            " 12  begin_month    26451 non-null  float64\n",
            " 13  credit         26451 non-null  object \n",
            "dtypes: float64(1), int64(2), object(11)\n",
            "memory usage: 3.0+ MB\n"
          ],
          "name": "stdout"
        }
      ]
    },
    {
      "cell_type": "code",
      "metadata": {
        "id": "4dId2OC4fevR"
      },
      "source": [
        "train['car'] = train['car'].map({'Y':1,'N':0})\n",
        "train['reality'] = train['reality'].map({'Y':1,'N':0})\n",
        "train['phone'] = train['phone'].astype('int64')\n",
        "train['email'] = train['email'].astype('int64')\n",
        "\n",
        "test['car'] = test['car'].map({'Y':1,'N':0})\n",
        "test['reality'] = test['reality'].map({'Y':1,'N':0})\n",
        "test['phone'] = test['phone'].astype('int64')\n",
        "test['email'] = test['email'].astype('int64')"
      ],
      "execution_count": 82,
      "outputs": []
    },
    {
      "cell_type": "code",
      "metadata": {
        "id": "SgPCZ6YeY7mp"
      },
      "source": [
        "object_col = []\n",
        "for col in train.columns:\n",
        "    if train[col].dtype == 'object':\n",
        "        object_col.append(col)"
      ],
      "execution_count": 83,
      "outputs": []
    },
    {
      "cell_type": "code",
      "metadata": {
        "colab": {
          "base_uri": "https://localhost:8080/"
        },
        "id": "0riuVrn6Y9iJ",
        "outputId": "28229576-f4b9-41c5-ca7f-6afa1b975948"
      },
      "source": [
        "object_col"
      ],
      "execution_count": 84,
      "outputs": [
        {
          "output_type": "execute_result",
          "data": {
            "text/plain": [
              "['child_num',\n",
              " 'income_type',\n",
              " 'family_type',\n",
              " 'house_type',\n",
              " 'occyp_type',\n",
              " 'family_size',\n",
              " 'credit']"
            ]
          },
          "metadata": {
            "tags": []
          },
          "execution_count": 84
        }
      ]
    },
    {
      "cell_type": "code",
      "metadata": {
        "colab": {
          "base_uri": "https://localhost:8080/",
          "height": 553
        },
        "id": "x0hhlz1shItH",
        "outputId": "13f3784b-ca88-4c31-bb72-8276660dd859"
      },
      "source": [
        "train.loc[:,object_col[:-1]]"
      ],
      "execution_count": 85,
      "outputs": [
        {
          "output_type": "execute_result",
          "data": {
            "text/html": [
              "<div>\n",
              "<style scoped>\n",
              "    .dataframe tbody tr th:only-of-type {\n",
              "        vertical-align: middle;\n",
              "    }\n",
              "\n",
              "    .dataframe tbody tr th {\n",
              "        vertical-align: top;\n",
              "    }\n",
              "\n",
              "    .dataframe thead th {\n",
              "        text-align: right;\n",
              "    }\n",
              "</style>\n",
              "<table border=\"1\" class=\"dataframe\">\n",
              "  <thead>\n",
              "    <tr style=\"text-align: right;\">\n",
              "      <th></th>\n",
              "      <th>child_num</th>\n",
              "      <th>income_type</th>\n",
              "      <th>family_type</th>\n",
              "      <th>house_type</th>\n",
              "      <th>occyp_type</th>\n",
              "      <th>family_size</th>\n",
              "    </tr>\n",
              "  </thead>\n",
              "  <tbody>\n",
              "    <tr>\n",
              "      <th>0</th>\n",
              "      <td>0</td>\n",
              "      <td>Commercial associate</td>\n",
              "      <td>Married</td>\n",
              "      <td>Municipal apartment</td>\n",
              "      <td>NAN</td>\n",
              "      <td>2</td>\n",
              "    </tr>\n",
              "    <tr>\n",
              "      <th>1</th>\n",
              "      <td>1</td>\n",
              "      <td>Commercial associate</td>\n",
              "      <td>Civil marriage</td>\n",
              "      <td>House / apartment</td>\n",
              "      <td>Laborers</td>\n",
              "      <td>3</td>\n",
              "    </tr>\n",
              "    <tr>\n",
              "      <th>2</th>\n",
              "      <td>0</td>\n",
              "      <td>Working</td>\n",
              "      <td>Married</td>\n",
              "      <td>House / apartment</td>\n",
              "      <td>Managers</td>\n",
              "      <td>2</td>\n",
              "    </tr>\n",
              "    <tr>\n",
              "      <th>3</th>\n",
              "      <td>0</td>\n",
              "      <td>Commercial associate</td>\n",
              "      <td>Married</td>\n",
              "      <td>House / apartment</td>\n",
              "      <td>Sales staff</td>\n",
              "      <td>2</td>\n",
              "    </tr>\n",
              "    <tr>\n",
              "      <th>4</th>\n",
              "      <td>0</td>\n",
              "      <td>State servant</td>\n",
              "      <td>Married</td>\n",
              "      <td>House / apartment</td>\n",
              "      <td>Managers</td>\n",
              "      <td>2</td>\n",
              "    </tr>\n",
              "    <tr>\n",
              "      <th>...</th>\n",
              "      <td>...</td>\n",
              "      <td>...</td>\n",
              "      <td>...</td>\n",
              "      <td>...</td>\n",
              "      <td>...</td>\n",
              "      <td>...</td>\n",
              "    </tr>\n",
              "    <tr>\n",
              "      <th>26452</th>\n",
              "      <td>2</td>\n",
              "      <td>State servant</td>\n",
              "      <td>Married</td>\n",
              "      <td>House / apartment</td>\n",
              "      <td>Core staff</td>\n",
              "      <td>4</td>\n",
              "    </tr>\n",
              "    <tr>\n",
              "      <th>26453</th>\n",
              "      <td>1</td>\n",
              "      <td>Working</td>\n",
              "      <td>Separated</td>\n",
              "      <td>House / apartment</td>\n",
              "      <td>NAN</td>\n",
              "      <td>2</td>\n",
              "    </tr>\n",
              "    <tr>\n",
              "      <th>26454</th>\n",
              "      <td>0</td>\n",
              "      <td>Working</td>\n",
              "      <td>Civil marriage</td>\n",
              "      <td>With parents</td>\n",
              "      <td>Core staff</td>\n",
              "      <td>2</td>\n",
              "    </tr>\n",
              "    <tr>\n",
              "      <th>26455</th>\n",
              "      <td>0</td>\n",
              "      <td>Working</td>\n",
              "      <td>Single / not married</td>\n",
              "      <td>House / apartment</td>\n",
              "      <td>Laborers</td>\n",
              "      <td>1</td>\n",
              "    </tr>\n",
              "    <tr>\n",
              "      <th>26456</th>\n",
              "      <td>0</td>\n",
              "      <td>Working</td>\n",
              "      <td>Civil marriage</td>\n",
              "      <td>House / apartment</td>\n",
              "      <td>Security staff</td>\n",
              "      <td>2</td>\n",
              "    </tr>\n",
              "  </tbody>\n",
              "</table>\n",
              "<p>26451 rows × 6 columns</p>\n",
              "</div>"
            ],
            "text/plain": [
              "      child_num           income_type  ...      occyp_type family_size\n",
              "0             0  Commercial associate  ...             NAN           2\n",
              "1             1  Commercial associate  ...        Laborers           3\n",
              "2             0               Working  ...        Managers           2\n",
              "3             0  Commercial associate  ...     Sales staff           2\n",
              "4             0         State servant  ...        Managers           2\n",
              "...         ...                   ...  ...             ...         ...\n",
              "26452         2         State servant  ...      Core staff           4\n",
              "26453         1               Working  ...             NAN           2\n",
              "26454         0               Working  ...      Core staff           2\n",
              "26455         0               Working  ...        Laborers           1\n",
              "26456         0               Working  ...  Security staff           2\n",
              "\n",
              "[26451 rows x 6 columns]"
            ]
          },
          "metadata": {
            "tags": []
          },
          "execution_count": 85
        }
      ]
    },
    {
      "cell_type": "code",
      "metadata": {
        "id": "aNrOywHShGwT"
      },
      "source": [
        "from sklearn.preprocessing import OneHotEncoder\n",
        "\n",
        "enc = OneHotEncoder()\n",
        "enc.fit(train.loc[:,object_col[:-1]])\n",
        "\n",
        "train_onehot_df = pd.DataFrame(enc.transform(train.loc[:,object_col[:-1]]).toarray(), \n",
        "             columns=enc.get_feature_names(object_col[:-1]))\n",
        "train_onehot_df.index = train.index\n",
        "\n",
        "train.drop(object_col[:-1], axis=1, inplace=True)\n",
        "train = pd.concat([train, train_onehot_df], axis=1)"
      ],
      "execution_count": 86,
      "outputs": []
    },
    {
      "cell_type": "code",
      "metadata": {
        "id": "NVCZk8DRYw8H"
      },
      "source": [
        "test_onehot_df = pd.DataFrame(enc.transform(test.loc[:,object_col[:-1]]).toarray(), \n",
        "             columns=enc.get_feature_names(object_col[:-1]))\n",
        "test.drop(object_col[:-1], axis=1, inplace=True)\n",
        "test = pd.concat([test, test_onehot_df], axis=1)"
      ],
      "execution_count": 90,
      "outputs": []
    },
    {
      "cell_type": "code",
      "metadata": {
        "colab": {
          "base_uri": "https://localhost:8080/",
          "height": 455
        },
        "id": "41hdULk1dWK1",
        "outputId": "e8672456-8784-4529-bfe1-511ab0e80e13"
      },
      "source": [
        "test"
      ],
      "execution_count": 91,
      "outputs": [
        {
          "output_type": "execute_result",
          "data": {
            "text/html": [
              "<div>\n",
              "<style scoped>\n",
              "    .dataframe tbody tr th:only-of-type {\n",
              "        vertical-align: middle;\n",
              "    }\n",
              "\n",
              "    .dataframe tbody tr th {\n",
              "        vertical-align: top;\n",
              "    }\n",
              "\n",
              "    .dataframe thead th {\n",
              "        text-align: right;\n",
              "    }\n",
              "</style>\n",
              "<table border=\"1\" class=\"dataframe\">\n",
              "  <thead>\n",
              "    <tr style=\"text-align: right;\">\n",
              "      <th></th>\n",
              "      <th>car</th>\n",
              "      <th>reality</th>\n",
              "      <th>DAYS_BIRTH</th>\n",
              "      <th>DAYS_EMPLOYED</th>\n",
              "      <th>phone</th>\n",
              "      <th>email</th>\n",
              "      <th>begin_month</th>\n",
              "      <th>child_num_0</th>\n",
              "      <th>child_num_1</th>\n",
              "      <th>child_num_2</th>\n",
              "      <th>child_num_3</th>\n",
              "      <th>child_num_4</th>\n",
              "      <th>child_num_5</th>\n",
              "      <th>income_type_Commercial associate</th>\n",
              "      <th>income_type_Pensioner</th>\n",
              "      <th>income_type_State servant</th>\n",
              "      <th>income_type_Student</th>\n",
              "      <th>income_type_Working</th>\n",
              "      <th>family_type_Civil marriage</th>\n",
              "      <th>family_type_Married</th>\n",
              "      <th>family_type_Separated</th>\n",
              "      <th>family_type_Single / not married</th>\n",
              "      <th>family_type_Widow</th>\n",
              "      <th>house_type_Co-op apartment</th>\n",
              "      <th>house_type_House / apartment</th>\n",
              "      <th>house_type_Municipal apartment</th>\n",
              "      <th>house_type_Office apartment</th>\n",
              "      <th>house_type_Rented apartment</th>\n",
              "      <th>house_type_With parents</th>\n",
              "      <th>occyp_type_Accountants</th>\n",
              "      <th>occyp_type_Cleaning staff</th>\n",
              "      <th>occyp_type_Cooking staff</th>\n",
              "      <th>occyp_type_Core staff</th>\n",
              "      <th>occyp_type_Drivers</th>\n",
              "      <th>occyp_type_HR staff</th>\n",
              "      <th>occyp_type_High skill tech staff</th>\n",
              "      <th>occyp_type_IT staff</th>\n",
              "      <th>occyp_type_Laborers</th>\n",
              "      <th>occyp_type_Low-skill Laborers</th>\n",
              "      <th>occyp_type_Managers</th>\n",
              "      <th>occyp_type_Medicine staff</th>\n",
              "      <th>occyp_type_NAN</th>\n",
              "      <th>occyp_type_Private service staff</th>\n",
              "      <th>occyp_type_Realty agents</th>\n",
              "      <th>occyp_type_Sales staff</th>\n",
              "      <th>occyp_type_Secretaries</th>\n",
              "      <th>occyp_type_Security staff</th>\n",
              "      <th>occyp_type_Waiters/barmen staff</th>\n",
              "      <th>family_size_1.0</th>\n",
              "      <th>family_size_2.0</th>\n",
              "      <th>family_size_3.0</th>\n",
              "      <th>family_size_4.0</th>\n",
              "      <th>family_size_5.0</th>\n",
              "      <th>family_size_6.0</th>\n",
              "      <th>family_size_7.0</th>\n",
              "    </tr>\n",
              "  </thead>\n",
              "  <tbody>\n",
              "    <tr>\n",
              "      <th>0</th>\n",
              "      <td>1</td>\n",
              "      <td>0</td>\n",
              "      <td>21990</td>\n",
              "      <td>0</td>\n",
              "      <td>1</td>\n",
              "      <td>0</td>\n",
              "      <td>-60.0</td>\n",
              "      <td>1.0</td>\n",
              "      <td>0.0</td>\n",
              "      <td>0.0</td>\n",
              "      <td>0.0</td>\n",
              "      <td>0.0</td>\n",
              "      <td>0.0</td>\n",
              "      <td>0.0</td>\n",
              "      <td>1.0</td>\n",
              "      <td>0.0</td>\n",
              "      <td>0.0</td>\n",
              "      <td>0.0</td>\n",
              "      <td>1.0</td>\n",
              "      <td>0.0</td>\n",
              "      <td>0.0</td>\n",
              "      <td>0.0</td>\n",
              "      <td>0.0</td>\n",
              "      <td>0.0</td>\n",
              "      <td>1.0</td>\n",
              "      <td>0.0</td>\n",
              "      <td>0.0</td>\n",
              "      <td>0.0</td>\n",
              "      <td>0.0</td>\n",
              "      <td>0.0</td>\n",
              "      <td>0.0</td>\n",
              "      <td>0.0</td>\n",
              "      <td>0.0</td>\n",
              "      <td>0.0</td>\n",
              "      <td>0.0</td>\n",
              "      <td>0.0</td>\n",
              "      <td>0.0</td>\n",
              "      <td>0.0</td>\n",
              "      <td>0.0</td>\n",
              "      <td>0.0</td>\n",
              "      <td>0.0</td>\n",
              "      <td>1.0</td>\n",
              "      <td>0.0</td>\n",
              "      <td>0.0</td>\n",
              "      <td>0.0</td>\n",
              "      <td>0.0</td>\n",
              "      <td>0.0</td>\n",
              "      <td>0.0</td>\n",
              "      <td>0.0</td>\n",
              "      <td>1.0</td>\n",
              "      <td>0.0</td>\n",
              "      <td>0.0</td>\n",
              "      <td>0.0</td>\n",
              "      <td>0.0</td>\n",
              "      <td>0.0</td>\n",
              "    </tr>\n",
              "    <tr>\n",
              "      <th>1</th>\n",
              "      <td>0</td>\n",
              "      <td>1</td>\n",
              "      <td>18964</td>\n",
              "      <td>8671</td>\n",
              "      <td>1</td>\n",
              "      <td>0</td>\n",
              "      <td>-36.0</td>\n",
              "      <td>1.0</td>\n",
              "      <td>0.0</td>\n",
              "      <td>0.0</td>\n",
              "      <td>0.0</td>\n",
              "      <td>0.0</td>\n",
              "      <td>0.0</td>\n",
              "      <td>0.0</td>\n",
              "      <td>0.0</td>\n",
              "      <td>1.0</td>\n",
              "      <td>0.0</td>\n",
              "      <td>0.0</td>\n",
              "      <td>0.0</td>\n",
              "      <td>1.0</td>\n",
              "      <td>0.0</td>\n",
              "      <td>0.0</td>\n",
              "      <td>0.0</td>\n",
              "      <td>0.0</td>\n",
              "      <td>1.0</td>\n",
              "      <td>0.0</td>\n",
              "      <td>0.0</td>\n",
              "      <td>0.0</td>\n",
              "      <td>0.0</td>\n",
              "      <td>0.0</td>\n",
              "      <td>0.0</td>\n",
              "      <td>0.0</td>\n",
              "      <td>1.0</td>\n",
              "      <td>0.0</td>\n",
              "      <td>0.0</td>\n",
              "      <td>0.0</td>\n",
              "      <td>0.0</td>\n",
              "      <td>0.0</td>\n",
              "      <td>0.0</td>\n",
              "      <td>0.0</td>\n",
              "      <td>0.0</td>\n",
              "      <td>0.0</td>\n",
              "      <td>0.0</td>\n",
              "      <td>0.0</td>\n",
              "      <td>0.0</td>\n",
              "      <td>0.0</td>\n",
              "      <td>0.0</td>\n",
              "      <td>0.0</td>\n",
              "      <td>0.0</td>\n",
              "      <td>1.0</td>\n",
              "      <td>0.0</td>\n",
              "      <td>0.0</td>\n",
              "      <td>0.0</td>\n",
              "      <td>0.0</td>\n",
              "      <td>0.0</td>\n",
              "    </tr>\n",
              "    <tr>\n",
              "      <th>2</th>\n",
              "      <td>0</td>\n",
              "      <td>1</td>\n",
              "      <td>15887</td>\n",
              "      <td>217</td>\n",
              "      <td>1</td>\n",
              "      <td>0</td>\n",
              "      <td>-40.0</td>\n",
              "      <td>1.0</td>\n",
              "      <td>0.0</td>\n",
              "      <td>0.0</td>\n",
              "      <td>0.0</td>\n",
              "      <td>0.0</td>\n",
              "      <td>0.0</td>\n",
              "      <td>0.0</td>\n",
              "      <td>0.0</td>\n",
              "      <td>0.0</td>\n",
              "      <td>0.0</td>\n",
              "      <td>1.0</td>\n",
              "      <td>0.0</td>\n",
              "      <td>1.0</td>\n",
              "      <td>0.0</td>\n",
              "      <td>0.0</td>\n",
              "      <td>0.0</td>\n",
              "      <td>0.0</td>\n",
              "      <td>1.0</td>\n",
              "      <td>0.0</td>\n",
              "      <td>0.0</td>\n",
              "      <td>0.0</td>\n",
              "      <td>0.0</td>\n",
              "      <td>0.0</td>\n",
              "      <td>0.0</td>\n",
              "      <td>0.0</td>\n",
              "      <td>0.0</td>\n",
              "      <td>0.0</td>\n",
              "      <td>0.0</td>\n",
              "      <td>0.0</td>\n",
              "      <td>0.0</td>\n",
              "      <td>1.0</td>\n",
              "      <td>0.0</td>\n",
              "      <td>0.0</td>\n",
              "      <td>0.0</td>\n",
              "      <td>0.0</td>\n",
              "      <td>0.0</td>\n",
              "      <td>0.0</td>\n",
              "      <td>0.0</td>\n",
              "      <td>0.0</td>\n",
              "      <td>0.0</td>\n",
              "      <td>0.0</td>\n",
              "      <td>0.0</td>\n",
              "      <td>1.0</td>\n",
              "      <td>0.0</td>\n",
              "      <td>0.0</td>\n",
              "      <td>0.0</td>\n",
              "      <td>0.0</td>\n",
              "      <td>0.0</td>\n",
              "    </tr>\n",
              "    <tr>\n",
              "      <th>3</th>\n",
              "      <td>1</td>\n",
              "      <td>0</td>\n",
              "      <td>19270</td>\n",
              "      <td>2531</td>\n",
              "      <td>0</td>\n",
              "      <td>0</td>\n",
              "      <td>-41.0</td>\n",
              "      <td>1.0</td>\n",
              "      <td>0.0</td>\n",
              "      <td>0.0</td>\n",
              "      <td>0.0</td>\n",
              "      <td>0.0</td>\n",
              "      <td>0.0</td>\n",
              "      <td>1.0</td>\n",
              "      <td>0.0</td>\n",
              "      <td>0.0</td>\n",
              "      <td>0.0</td>\n",
              "      <td>0.0</td>\n",
              "      <td>0.0</td>\n",
              "      <td>1.0</td>\n",
              "      <td>0.0</td>\n",
              "      <td>0.0</td>\n",
              "      <td>0.0</td>\n",
              "      <td>0.0</td>\n",
              "      <td>1.0</td>\n",
              "      <td>0.0</td>\n",
              "      <td>0.0</td>\n",
              "      <td>0.0</td>\n",
              "      <td>0.0</td>\n",
              "      <td>0.0</td>\n",
              "      <td>0.0</td>\n",
              "      <td>0.0</td>\n",
              "      <td>0.0</td>\n",
              "      <td>1.0</td>\n",
              "      <td>0.0</td>\n",
              "      <td>0.0</td>\n",
              "      <td>0.0</td>\n",
              "      <td>0.0</td>\n",
              "      <td>0.0</td>\n",
              "      <td>0.0</td>\n",
              "      <td>0.0</td>\n",
              "      <td>0.0</td>\n",
              "      <td>0.0</td>\n",
              "      <td>0.0</td>\n",
              "      <td>0.0</td>\n",
              "      <td>0.0</td>\n",
              "      <td>0.0</td>\n",
              "      <td>0.0</td>\n",
              "      <td>0.0</td>\n",
              "      <td>1.0</td>\n",
              "      <td>0.0</td>\n",
              "      <td>0.0</td>\n",
              "      <td>0.0</td>\n",
              "      <td>0.0</td>\n",
              "      <td>0.0</td>\n",
              "    </tr>\n",
              "    <tr>\n",
              "      <th>4</th>\n",
              "      <td>1</td>\n",
              "      <td>1</td>\n",
              "      <td>17822</td>\n",
              "      <td>9385</td>\n",
              "      <td>0</td>\n",
              "      <td>0</td>\n",
              "      <td>-8.0</td>\n",
              "      <td>1.0</td>\n",
              "      <td>0.0</td>\n",
              "      <td>0.0</td>\n",
              "      <td>0.0</td>\n",
              "      <td>0.0</td>\n",
              "      <td>0.0</td>\n",
              "      <td>0.0</td>\n",
              "      <td>0.0</td>\n",
              "      <td>1.0</td>\n",
              "      <td>0.0</td>\n",
              "      <td>0.0</td>\n",
              "      <td>0.0</td>\n",
              "      <td>1.0</td>\n",
              "      <td>0.0</td>\n",
              "      <td>0.0</td>\n",
              "      <td>0.0</td>\n",
              "      <td>0.0</td>\n",
              "      <td>1.0</td>\n",
              "      <td>0.0</td>\n",
              "      <td>0.0</td>\n",
              "      <td>0.0</td>\n",
              "      <td>0.0</td>\n",
              "      <td>0.0</td>\n",
              "      <td>0.0</td>\n",
              "      <td>0.0</td>\n",
              "      <td>0.0</td>\n",
              "      <td>0.0</td>\n",
              "      <td>0.0</td>\n",
              "      <td>0.0</td>\n",
              "      <td>0.0</td>\n",
              "      <td>0.0</td>\n",
              "      <td>0.0</td>\n",
              "      <td>1.0</td>\n",
              "      <td>0.0</td>\n",
              "      <td>0.0</td>\n",
              "      <td>0.0</td>\n",
              "      <td>0.0</td>\n",
              "      <td>0.0</td>\n",
              "      <td>0.0</td>\n",
              "      <td>0.0</td>\n",
              "      <td>0.0</td>\n",
              "      <td>0.0</td>\n",
              "      <td>1.0</td>\n",
              "      <td>0.0</td>\n",
              "      <td>0.0</td>\n",
              "      <td>0.0</td>\n",
              "      <td>0.0</td>\n",
              "      <td>0.0</td>\n",
              "    </tr>\n",
              "    <tr>\n",
              "      <th>...</th>\n",
              "      <td>...</td>\n",
              "      <td>...</td>\n",
              "      <td>...</td>\n",
              "      <td>...</td>\n",
              "      <td>...</td>\n",
              "      <td>...</td>\n",
              "      <td>...</td>\n",
              "      <td>...</td>\n",
              "      <td>...</td>\n",
              "      <td>...</td>\n",
              "      <td>...</td>\n",
              "      <td>...</td>\n",
              "      <td>...</td>\n",
              "      <td>...</td>\n",
              "      <td>...</td>\n",
              "      <td>...</td>\n",
              "      <td>...</td>\n",
              "      <td>...</td>\n",
              "      <td>...</td>\n",
              "      <td>...</td>\n",
              "      <td>...</td>\n",
              "      <td>...</td>\n",
              "      <td>...</td>\n",
              "      <td>...</td>\n",
              "      <td>...</td>\n",
              "      <td>...</td>\n",
              "      <td>...</td>\n",
              "      <td>...</td>\n",
              "      <td>...</td>\n",
              "      <td>...</td>\n",
              "      <td>...</td>\n",
              "      <td>...</td>\n",
              "      <td>...</td>\n",
              "      <td>...</td>\n",
              "      <td>...</td>\n",
              "      <td>...</td>\n",
              "      <td>...</td>\n",
              "      <td>...</td>\n",
              "      <td>...</td>\n",
              "      <td>...</td>\n",
              "      <td>...</td>\n",
              "      <td>...</td>\n",
              "      <td>...</td>\n",
              "      <td>...</td>\n",
              "      <td>...</td>\n",
              "      <td>...</td>\n",
              "      <td>...</td>\n",
              "      <td>...</td>\n",
              "      <td>...</td>\n",
              "      <td>...</td>\n",
              "      <td>...</td>\n",
              "      <td>...</td>\n",
              "      <td>...</td>\n",
              "      <td>...</td>\n",
              "      <td>...</td>\n",
              "    </tr>\n",
              "    <tr>\n",
              "      <th>9995</th>\n",
              "      <td>1</td>\n",
              "      <td>1</td>\n",
              "      <td>18593</td>\n",
              "      <td>5434</td>\n",
              "      <td>1</td>\n",
              "      <td>0</td>\n",
              "      <td>-19.0</td>\n",
              "      <td>1.0</td>\n",
              "      <td>0.0</td>\n",
              "      <td>0.0</td>\n",
              "      <td>0.0</td>\n",
              "      <td>0.0</td>\n",
              "      <td>0.0</td>\n",
              "      <td>0.0</td>\n",
              "      <td>0.0</td>\n",
              "      <td>0.0</td>\n",
              "      <td>0.0</td>\n",
              "      <td>1.0</td>\n",
              "      <td>0.0</td>\n",
              "      <td>1.0</td>\n",
              "      <td>0.0</td>\n",
              "      <td>0.0</td>\n",
              "      <td>0.0</td>\n",
              "      <td>0.0</td>\n",
              "      <td>1.0</td>\n",
              "      <td>0.0</td>\n",
              "      <td>0.0</td>\n",
              "      <td>0.0</td>\n",
              "      <td>0.0</td>\n",
              "      <td>1.0</td>\n",
              "      <td>0.0</td>\n",
              "      <td>0.0</td>\n",
              "      <td>0.0</td>\n",
              "      <td>0.0</td>\n",
              "      <td>0.0</td>\n",
              "      <td>0.0</td>\n",
              "      <td>0.0</td>\n",
              "      <td>0.0</td>\n",
              "      <td>0.0</td>\n",
              "      <td>0.0</td>\n",
              "      <td>0.0</td>\n",
              "      <td>0.0</td>\n",
              "      <td>0.0</td>\n",
              "      <td>0.0</td>\n",
              "      <td>0.0</td>\n",
              "      <td>0.0</td>\n",
              "      <td>0.0</td>\n",
              "      <td>0.0</td>\n",
              "      <td>0.0</td>\n",
              "      <td>1.0</td>\n",
              "      <td>0.0</td>\n",
              "      <td>0.0</td>\n",
              "      <td>0.0</td>\n",
              "      <td>0.0</td>\n",
              "      <td>0.0</td>\n",
              "    </tr>\n",
              "    <tr>\n",
              "      <th>9996</th>\n",
              "      <td>1</td>\n",
              "      <td>1</td>\n",
              "      <td>10886</td>\n",
              "      <td>1315</td>\n",
              "      <td>0</td>\n",
              "      <td>0</td>\n",
              "      <td>-34.0</td>\n",
              "      <td>1.0</td>\n",
              "      <td>0.0</td>\n",
              "      <td>0.0</td>\n",
              "      <td>0.0</td>\n",
              "      <td>0.0</td>\n",
              "      <td>0.0</td>\n",
              "      <td>0.0</td>\n",
              "      <td>0.0</td>\n",
              "      <td>0.0</td>\n",
              "      <td>0.0</td>\n",
              "      <td>1.0</td>\n",
              "      <td>1.0</td>\n",
              "      <td>0.0</td>\n",
              "      <td>0.0</td>\n",
              "      <td>0.0</td>\n",
              "      <td>0.0</td>\n",
              "      <td>0.0</td>\n",
              "      <td>1.0</td>\n",
              "      <td>0.0</td>\n",
              "      <td>0.0</td>\n",
              "      <td>0.0</td>\n",
              "      <td>0.0</td>\n",
              "      <td>0.0</td>\n",
              "      <td>0.0</td>\n",
              "      <td>0.0</td>\n",
              "      <td>0.0</td>\n",
              "      <td>0.0</td>\n",
              "      <td>0.0</td>\n",
              "      <td>0.0</td>\n",
              "      <td>0.0</td>\n",
              "      <td>1.0</td>\n",
              "      <td>0.0</td>\n",
              "      <td>0.0</td>\n",
              "      <td>0.0</td>\n",
              "      <td>0.0</td>\n",
              "      <td>0.0</td>\n",
              "      <td>0.0</td>\n",
              "      <td>0.0</td>\n",
              "      <td>0.0</td>\n",
              "      <td>0.0</td>\n",
              "      <td>0.0</td>\n",
              "      <td>0.0</td>\n",
              "      <td>1.0</td>\n",
              "      <td>0.0</td>\n",
              "      <td>0.0</td>\n",
              "      <td>0.0</td>\n",
              "      <td>0.0</td>\n",
              "      <td>0.0</td>\n",
              "    </tr>\n",
              "    <tr>\n",
              "      <th>9997</th>\n",
              "      <td>0</td>\n",
              "      <td>1</td>\n",
              "      <td>21016</td>\n",
              "      <td>14018</td>\n",
              "      <td>0</td>\n",
              "      <td>0</td>\n",
              "      <td>-55.0</td>\n",
              "      <td>1.0</td>\n",
              "      <td>0.0</td>\n",
              "      <td>0.0</td>\n",
              "      <td>0.0</td>\n",
              "      <td>0.0</td>\n",
              "      <td>0.0</td>\n",
              "      <td>0.0</td>\n",
              "      <td>0.0</td>\n",
              "      <td>0.0</td>\n",
              "      <td>0.0</td>\n",
              "      <td>1.0</td>\n",
              "      <td>0.0</td>\n",
              "      <td>1.0</td>\n",
              "      <td>0.0</td>\n",
              "      <td>0.0</td>\n",
              "      <td>0.0</td>\n",
              "      <td>0.0</td>\n",
              "      <td>1.0</td>\n",
              "      <td>0.0</td>\n",
              "      <td>0.0</td>\n",
              "      <td>0.0</td>\n",
              "      <td>0.0</td>\n",
              "      <td>0.0</td>\n",
              "      <td>0.0</td>\n",
              "      <td>0.0</td>\n",
              "      <td>0.0</td>\n",
              "      <td>0.0</td>\n",
              "      <td>0.0</td>\n",
              "      <td>0.0</td>\n",
              "      <td>0.0</td>\n",
              "      <td>0.0</td>\n",
              "      <td>0.0</td>\n",
              "      <td>0.0</td>\n",
              "      <td>1.0</td>\n",
              "      <td>0.0</td>\n",
              "      <td>0.0</td>\n",
              "      <td>0.0</td>\n",
              "      <td>0.0</td>\n",
              "      <td>0.0</td>\n",
              "      <td>0.0</td>\n",
              "      <td>0.0</td>\n",
              "      <td>0.0</td>\n",
              "      <td>1.0</td>\n",
              "      <td>0.0</td>\n",
              "      <td>0.0</td>\n",
              "      <td>0.0</td>\n",
              "      <td>0.0</td>\n",
              "      <td>0.0</td>\n",
              "    </tr>\n",
              "    <tr>\n",
              "      <th>9998</th>\n",
              "      <td>1</td>\n",
              "      <td>0</td>\n",
              "      <td>16541</td>\n",
              "      <td>1085</td>\n",
              "      <td>1</td>\n",
              "      <td>0</td>\n",
              "      <td>-33.0</td>\n",
              "      <td>1.0</td>\n",
              "      <td>0.0</td>\n",
              "      <td>0.0</td>\n",
              "      <td>0.0</td>\n",
              "      <td>0.0</td>\n",
              "      <td>0.0</td>\n",
              "      <td>1.0</td>\n",
              "      <td>0.0</td>\n",
              "      <td>0.0</td>\n",
              "      <td>0.0</td>\n",
              "      <td>0.0</td>\n",
              "      <td>0.0</td>\n",
              "      <td>1.0</td>\n",
              "      <td>0.0</td>\n",
              "      <td>0.0</td>\n",
              "      <td>0.0</td>\n",
              "      <td>0.0</td>\n",
              "      <td>1.0</td>\n",
              "      <td>0.0</td>\n",
              "      <td>0.0</td>\n",
              "      <td>0.0</td>\n",
              "      <td>0.0</td>\n",
              "      <td>0.0</td>\n",
              "      <td>0.0</td>\n",
              "      <td>0.0</td>\n",
              "      <td>0.0</td>\n",
              "      <td>0.0</td>\n",
              "      <td>0.0</td>\n",
              "      <td>0.0</td>\n",
              "      <td>0.0</td>\n",
              "      <td>0.0</td>\n",
              "      <td>0.0</td>\n",
              "      <td>0.0</td>\n",
              "      <td>0.0</td>\n",
              "      <td>1.0</td>\n",
              "      <td>0.0</td>\n",
              "      <td>0.0</td>\n",
              "      <td>0.0</td>\n",
              "      <td>0.0</td>\n",
              "      <td>0.0</td>\n",
              "      <td>0.0</td>\n",
              "      <td>0.0</td>\n",
              "      <td>1.0</td>\n",
              "      <td>0.0</td>\n",
              "      <td>0.0</td>\n",
              "      <td>0.0</td>\n",
              "      <td>0.0</td>\n",
              "      <td>0.0</td>\n",
              "    </tr>\n",
              "    <tr>\n",
              "      <th>9999</th>\n",
              "      <td>0</td>\n",
              "      <td>1</td>\n",
              "      <td>9154</td>\n",
              "      <td>187</td>\n",
              "      <td>0</td>\n",
              "      <td>1</td>\n",
              "      <td>-11.0</td>\n",
              "      <td>1.0</td>\n",
              "      <td>0.0</td>\n",
              "      <td>0.0</td>\n",
              "      <td>0.0</td>\n",
              "      <td>0.0</td>\n",
              "      <td>0.0</td>\n",
              "      <td>0.0</td>\n",
              "      <td>0.0</td>\n",
              "      <td>0.0</td>\n",
              "      <td>0.0</td>\n",
              "      <td>1.0</td>\n",
              "      <td>0.0</td>\n",
              "      <td>1.0</td>\n",
              "      <td>0.0</td>\n",
              "      <td>0.0</td>\n",
              "      <td>0.0</td>\n",
              "      <td>0.0</td>\n",
              "      <td>1.0</td>\n",
              "      <td>0.0</td>\n",
              "      <td>0.0</td>\n",
              "      <td>0.0</td>\n",
              "      <td>0.0</td>\n",
              "      <td>0.0</td>\n",
              "      <td>0.0</td>\n",
              "      <td>0.0</td>\n",
              "      <td>0.0</td>\n",
              "      <td>0.0</td>\n",
              "      <td>0.0</td>\n",
              "      <td>0.0</td>\n",
              "      <td>0.0</td>\n",
              "      <td>1.0</td>\n",
              "      <td>0.0</td>\n",
              "      <td>0.0</td>\n",
              "      <td>0.0</td>\n",
              "      <td>0.0</td>\n",
              "      <td>0.0</td>\n",
              "      <td>0.0</td>\n",
              "      <td>0.0</td>\n",
              "      <td>0.0</td>\n",
              "      <td>0.0</td>\n",
              "      <td>0.0</td>\n",
              "      <td>0.0</td>\n",
              "      <td>1.0</td>\n",
              "      <td>0.0</td>\n",
              "      <td>0.0</td>\n",
              "      <td>0.0</td>\n",
              "      <td>0.0</td>\n",
              "      <td>0.0</td>\n",
              "    </tr>\n",
              "  </tbody>\n",
              "</table>\n",
              "<p>10000 rows × 55 columns</p>\n",
              "</div>"
            ],
            "text/plain": [
              "      car  reality  ...  family_size_6.0  family_size_7.0\n",
              "0       1        0  ...              0.0              0.0\n",
              "1       0        1  ...              0.0              0.0\n",
              "2       0        1  ...              0.0              0.0\n",
              "3       1        0  ...              0.0              0.0\n",
              "4       1        1  ...              0.0              0.0\n",
              "...   ...      ...  ...              ...              ...\n",
              "9995    1        1  ...              0.0              0.0\n",
              "9996    1        1  ...              0.0              0.0\n",
              "9997    0        1  ...              0.0              0.0\n",
              "9998    1        0  ...              0.0              0.0\n",
              "9999    0        1  ...              0.0              0.0\n",
              "\n",
              "[10000 rows x 55 columns]"
            ]
          },
          "metadata": {
            "tags": []
          },
          "execution_count": 91
        }
      ]
    },
    {
      "cell_type": "code",
      "metadata": {
        "id": "k7pyg1ukZSgZ",
        "colab": {
          "base_uri": "https://localhost:8080/"
        },
        "outputId": "9d347a29-6228-4983-eadf-23a680ccdad8"
      },
      "source": [
        "train.info()"
      ],
      "execution_count": 92,
      "outputs": [
        {
          "output_type": "stream",
          "text": [
            "<class 'pandas.core.frame.DataFrame'>\n",
            "Int64Index: 26451 entries, 0 to 26456\n",
            "Data columns (total 56 columns):\n",
            " #   Column                            Non-Null Count  Dtype  \n",
            "---  ------                            --------------  -----  \n",
            " 0   car                               26451 non-null  int64  \n",
            " 1   reality                           26451 non-null  int64  \n",
            " 2   DAYS_BIRTH                        26451 non-null  int64  \n",
            " 3   DAYS_EMPLOYED                     26451 non-null  int64  \n",
            " 4   phone                             26451 non-null  int64  \n",
            " 5   email                             26451 non-null  int64  \n",
            " 6   begin_month                       26451 non-null  float64\n",
            " 7   credit                            26451 non-null  object \n",
            " 8   child_num_0                       26451 non-null  float64\n",
            " 9   child_num_1                       26451 non-null  float64\n",
            " 10  child_num_2                       26451 non-null  float64\n",
            " 11  child_num_3                       26451 non-null  float64\n",
            " 12  child_num_4                       26451 non-null  float64\n",
            " 13  child_num_5                       26451 non-null  float64\n",
            " 14  income_type_Commercial associate  26451 non-null  float64\n",
            " 15  income_type_Pensioner             26451 non-null  float64\n",
            " 16  income_type_State servant         26451 non-null  float64\n",
            " 17  income_type_Student               26451 non-null  float64\n",
            " 18  income_type_Working               26451 non-null  float64\n",
            " 19  family_type_Civil marriage        26451 non-null  float64\n",
            " 20  family_type_Married               26451 non-null  float64\n",
            " 21  family_type_Separated             26451 non-null  float64\n",
            " 22  family_type_Single / not married  26451 non-null  float64\n",
            " 23  family_type_Widow                 26451 non-null  float64\n",
            " 24  house_type_Co-op apartment        26451 non-null  float64\n",
            " 25  house_type_House / apartment      26451 non-null  float64\n",
            " 26  house_type_Municipal apartment    26451 non-null  float64\n",
            " 27  house_type_Office apartment       26451 non-null  float64\n",
            " 28  house_type_Rented apartment       26451 non-null  float64\n",
            " 29  house_type_With parents           26451 non-null  float64\n",
            " 30  occyp_type_Accountants            26451 non-null  float64\n",
            " 31  occyp_type_Cleaning staff         26451 non-null  float64\n",
            " 32  occyp_type_Cooking staff          26451 non-null  float64\n",
            " 33  occyp_type_Core staff             26451 non-null  float64\n",
            " 34  occyp_type_Drivers                26451 non-null  float64\n",
            " 35  occyp_type_HR staff               26451 non-null  float64\n",
            " 36  occyp_type_High skill tech staff  26451 non-null  float64\n",
            " 37  occyp_type_IT staff               26451 non-null  float64\n",
            " 38  occyp_type_Laborers               26451 non-null  float64\n",
            " 39  occyp_type_Low-skill Laborers     26451 non-null  float64\n",
            " 40  occyp_type_Managers               26451 non-null  float64\n",
            " 41  occyp_type_Medicine staff         26451 non-null  float64\n",
            " 42  occyp_type_NAN                    26451 non-null  float64\n",
            " 43  occyp_type_Private service staff  26451 non-null  float64\n",
            " 44  occyp_type_Realty agents          26451 non-null  float64\n",
            " 45  occyp_type_Sales staff            26451 non-null  float64\n",
            " 46  occyp_type_Secretaries            26451 non-null  float64\n",
            " 47  occyp_type_Security staff         26451 non-null  float64\n",
            " 48  occyp_type_Waiters/barmen staff   26451 non-null  float64\n",
            " 49  family_size_1.0                   26451 non-null  float64\n",
            " 50  family_size_2.0                   26451 non-null  float64\n",
            " 51  family_size_3.0                   26451 non-null  float64\n",
            " 52  family_size_4.0                   26451 non-null  float64\n",
            " 53  family_size_5.0                   26451 non-null  float64\n",
            " 54  family_size_6.0                   26451 non-null  float64\n",
            " 55  family_size_7.0                   26451 non-null  float64\n",
            "dtypes: float64(49), int64(6), object(1)\n",
            "memory usage: 11.5+ MB\n"
          ],
          "name": "stdout"
        }
      ]
    },
    {
      "cell_type": "code",
      "metadata": {
        "id": "Zzu0VtQiZTk1"
      },
      "source": [
        "X = train.drop('credit',axis=1)\n",
        "y = train.credit"
      ],
      "execution_count": 93,
      "outputs": []
    },
    {
      "cell_type": "code",
      "metadata": {
        "colab": {
          "base_uri": "https://localhost:8080/"
        },
        "id": "NwPMlUryjBEh",
        "outputId": "029e07be-83a9-4c38-d745-5ef5ee347aaa"
      },
      "source": [
        "y"
      ],
      "execution_count": 95,
      "outputs": [
        {
          "output_type": "execute_result",
          "data": {
            "text/plain": [
              "0        1\n",
              "1        1\n",
              "2        2\n",
              "3        0\n",
              "4        2\n",
              "        ..\n",
              "26452    1\n",
              "26453    2\n",
              "26454    2\n",
              "26455    2\n",
              "26456    2\n",
              "Name: credit, Length: 26451, dtype: object"
            ]
          },
          "metadata": {
            "tags": []
          },
          "execution_count": 95
        }
      ]
    },
    {
      "cell_type": "code",
      "metadata": {
        "id": "UOMydmNmjHcC"
      },
      "source": [
        "from collections import Counter\n",
        "from numpy import mean\n",
        "from numpy import std\n",
        "from pandas import read_csv\n",
        "from sklearn.preprocessing import LabelEncoder\n",
        "from sklearn.model_selection import cross_val_score\n",
        "from sklearn.model_selection import RepeatedStratifiedKFold\n",
        "from sklearn.dummy import DummyClassifier"
      ],
      "execution_count": 96,
      "outputs": []
    },
    {
      "cell_type": "code",
      "metadata": {
        "id": "06piJTR1jd0k"
      },
      "source": [
        "y = LabelEncoder().fit_transform(y)"
      ],
      "execution_count": 99,
      "outputs": []
    },
    {
      "cell_type": "markdown",
      "metadata": {
        "id": "EHPDc_62jhQn"
      },
      "source": [
        ""
      ]
    },
    {
      "cell_type": "code",
      "metadata": {
        "id": "9m95W8c_jFg1"
      },
      "source": [
        "def evaluate_model(X, y, model):\n",
        "\t# define evaluation procedure\n",
        "\tcv = RepeatedStratifiedKFold(n_splits=5, n_repeats=3, random_state=1)\n",
        "\t# evaluate model\n",
        "\tscores = cross_val_score(model, X, y, scoring='neg_log_loss', cv=cv, n_jobs=-1)\n",
        "\treturn scores"
      ],
      "execution_count": 103,
      "outputs": []
    },
    {
      "cell_type": "code",
      "metadata": {
        "colab": {
          "base_uri": "https://localhost:8080/"
        },
        "id": "ZV5xRGrojK6z",
        "outputId": "8e88ba5a-d9f6-4955-ff28-acf6d1f04228"
      },
      "source": [
        "# define the reference model\n",
        "model = DummyClassifier(strategy='most_frequent')\n",
        "# evaluate the model\n",
        "scores = evaluate_model(X, y, model)\n",
        "# summarize performance\n",
        "print('Mean Accuracy: %.3f (%.3f)' % (mean(scores), std(scores)))"
      ],
      "execution_count": 104,
      "outputs": [
        {
          "output_type": "stream",
          "text": [
            "Mean Accuracy: -12.390 (0.004)\n"
          ],
          "name": "stdout"
        }
      ]
    },
    {
      "cell_type": "code",
      "metadata": {
        "id": "2ip8h6pXWE4x"
      },
      "source": [
        "# spot check machine learning algorithms on the glass identification dataset\n",
        "from numpy import mean\n",
        "from numpy import std\n",
        "from pandas import read_csv\n",
        "from matplotlib import pyplot\n",
        "from sklearn.preprocessing import LabelEncoder\n",
        "from sklearn.model_selection import cross_val_score\n",
        "from sklearn.model_selection import RepeatedStratifiedKFold\n",
        "from sklearn.svm import SVC\n",
        "from sklearn.neighbors import KNeighborsClassifier\n",
        "from sklearn.ensemble import RandomForestClassifier\n",
        "from sklearn.ensemble import ExtraTreesClassifier\n",
        "from sklearn.ensemble import BaggingClassifier"
      ],
      "execution_count": 106,
      "outputs": []
    },
    {
      "cell_type": "code",
      "metadata": {
        "id": "TEq7b9bQkjPL"
      },
      "source": [
        "# define models to test\n",
        "def get_models():\n",
        "\tmodels, names = list(), list()\n",
        " \n",
        "\t# SVM\n",
        "\tmodels.append(SVC(gamma='auto',probability=True))\n",
        "\tnames.append('SVM')\n",
        "\t# KNN\n",
        "\tmodels.append(KNeighborsClassifier())\n",
        "\tnames.append('KNN')\n",
        "\t# Bagging\n",
        "\tmodels.append(BaggingClassifier(n_estimators=1000))\n",
        "\tnames.append('BAG')\n",
        "\t# RF\n",
        "\tmodels.append(RandomForestClassifier(n_estimators=1000))\n",
        "\tnames.append('RF')\n",
        "\t# ET\n",
        "\tmodels.append(ExtraTreesClassifier(n_estimators=1000))\n",
        "\tnames.append('ET')\n",
        "\treturn models, names"
      ],
      "execution_count": 118,
      "outputs": []
    },
    {
      "cell_type": "code",
      "metadata": {
        "id": "HfmXrDRvK21h",
        "colab": {
          "base_uri": "https://localhost:8080/",
          "height": 349
        },
        "outputId": "b5c3857f-0597-4107-8eba-cb58c79b1b02"
      },
      "source": [
        "models, names = get_models()\n",
        "results = list()\n",
        "# evaluate each model\n",
        "for i in range(len(models)):\n",
        "\t# evaluate the model and store results\n",
        "\tscores = evaluate_model(X, y, models[i])\n",
        "\tresults.append(scores)\n",
        "\t# summarize performance\n",
        "\tprint('>%s %.3f (%.3f)' % (names[i], mean(scores), std(scores)))\n",
        "# plot the results\n",
        "plt.boxplot(results, labels=names, showmeans=True)\n",
        "plt.show()"
      ],
      "execution_count": 125,
      "outputs": [
        {
          "output_type": "stream",
          "text": [
            ">SVM -0.847 (0.041)\n",
            ">KNN -4.122 (1.945)\n",
            ">BAG -0.917 (0.502)\n",
            ">RF -0.796 (0.091)\n",
            ">ET -0.872 (0.124)\n"
          ],
          "name": "stdout"
        },
        {
          "output_type": "display_data",
          "data": {
            "image/png": "[encoded data removed]",
            "text/plain": [
              "<Figure size 432x288 with 1 Axes>"
            ]
          },
          "metadata": {
            "tags": [],
            "needs_background": "light"
          }
        }
      ]
    },
    {
      "cell_type": "code",
      "metadata": {
        "id": "P8XaT5cfqJ14"
      },
      "source": [
        "model1 = SVC(gamma='auto',probability=True)\n",
        "model1.fit(X,y)"
      ],
      "execution_count": null,
      "outputs": []
    },
    {
      "cell_type": "code",
      "metadata": {
        "id": "FFf0-jNZqWgr"
      },
      "source": [
        "model2 = BaggingClassifier(n_estimators=1000)\n",
        "model2.fit(X,y)"
      ],
      "execution_count": null,
      "outputs": []
    },
    {
      "cell_type": "code",
      "metadata": {
        "colab": {
          "base_uri": "https://localhost:8080/"
        },
        "id": "oCiISKYKoMhu",
        "outputId": "97a99cf5-003f-4dda-bde8-d0168a9535e3"
      },
      "source": [
        "model3 = RandomForestClassifier(n_estimators=1000)\n",
        "model3.fit(X,y)"
      ],
      "execution_count": 127,
      "outputs": [
        {
          "output_type": "execute_result",
          "data": {
            "text/plain": [
              "RandomForestClassifier(bootstrap=True, ccp_alpha=0.0, class_weight=None,\n",
              "                       criterion='gini', max_depth=None, max_features='auto',\n",
              "                       max_leaf_nodes=None, max_samples=None,\n",
              "                       min_impurity_decrease=0.0, min_impurity_split=None,\n",
              "                       min_samples_leaf=1, min_samples_split=2,\n",
              "                       min_weight_fraction_leaf=0.0, n_estimators=1000,\n",
              "                       n_jobs=None, oob_score=False, random_state=None,\n",
              "                       verbose=0, warm_start=False)"
            ]
          },
          "metadata": {
            "tags": []
          },
          "execution_count": 127
        }
      ]
    },
    {
      "cell_type": "code",
      "metadata": {
        "id": "OytYSX4mqTF0"
      },
      "source": [
        "model4 = ExtraTreesClassifier(n_estimators=1000)\n",
        "model4.fit(X,y)"
      ],
      "execution_count": null,
      "outputs": []
    },
    {
      "cell_type": "code",
      "metadata": {
        "id": "xz0A9PVKqh-v"
      },
      "source": [
        ""
      ],
      "execution_count": null,
      "outputs": []
    },
    {
      "cell_type": "code",
      "metadata": {
        "colab": {
          "base_uri": "https://localhost:8080/",
          "height": 402
        },
        "id": "Jcv5yDhlo5F8",
        "outputId": "31da4973-cdf1-4393-bb6a-ceaa1744f412"
      },
      "source": [
        "pred = RF.predict_proba(test)\n",
        "\n",
        "submission.iloc[:,1:] = pred\n",
        "submission"
      ],
      "execution_count": 131,
      "outputs": [
        {
          "output_type": "execute_result",
          "data": {
            "text/html": [
              "<div>\n",
              "<style scoped>\n",
              "    .dataframe tbody tr th:only-of-type {\n",
              "        vertical-align: middle;\n",
              "    }\n",
              "\n",
              "    .dataframe tbody tr th {\n",
              "        vertical-align: top;\n",
              "    }\n",
              "\n",
              "    .dataframe thead th {\n",
              "        text-align: right;\n",
              "    }\n",
              "</style>\n",
              "<table border=\"1\" class=\"dataframe\">\n",
              "  <thead>\n",
              "    <tr style=\"text-align: right;\">\n",
              "      <th></th>\n",
              "      <th>index</th>\n",
              "      <th>0</th>\n",
              "      <th>1</th>\n",
              "      <th>2</th>\n",
              "    </tr>\n",
              "  </thead>\n",
              "  <tbody>\n",
              "    <tr>\n",
              "      <th>0</th>\n",
              "      <td>26457</td>\n",
              "      <td>0.044000</td>\n",
              "      <td>0.169000</td>\n",
              "      <td>0.787000</td>\n",
              "    </tr>\n",
              "    <tr>\n",
              "      <th>1</th>\n",
              "      <td>26458</td>\n",
              "      <td>0.477000</td>\n",
              "      <td>0.297000</td>\n",
              "      <td>0.226000</td>\n",
              "    </tr>\n",
              "    <tr>\n",
              "      <th>2</th>\n",
              "      <td>26459</td>\n",
              "      <td>0.069333</td>\n",
              "      <td>0.089667</td>\n",
              "      <td>0.841000</td>\n",
              "    </tr>\n",
              "    <tr>\n",
              "      <th>3</th>\n",
              "      <td>26460</td>\n",
              "      <td>0.025883</td>\n",
              "      <td>0.028333</td>\n",
              "      <td>0.945783</td>\n",
              "    </tr>\n",
              "    <tr>\n",
              "      <th>4</th>\n",
              "      <td>26461</td>\n",
              "      <td>0.091679</td>\n",
              "      <td>0.116600</td>\n",
              "      <td>0.791721</td>\n",
              "    </tr>\n",
              "    <tr>\n",
              "      <th>...</th>\n",
              "      <td>...</td>\n",
              "      <td>...</td>\n",
              "      <td>...</td>\n",
              "      <td>...</td>\n",
              "    </tr>\n",
              "    <tr>\n",
              "      <th>9995</th>\n",
              "      <td>36452</td>\n",
              "      <td>0.068333</td>\n",
              "      <td>0.375112</td>\n",
              "      <td>0.556555</td>\n",
              "    </tr>\n",
              "    <tr>\n",
              "      <th>9996</th>\n",
              "      <td>36453</td>\n",
              "      <td>0.215000</td>\n",
              "      <td>0.581250</td>\n",
              "      <td>0.203750</td>\n",
              "    </tr>\n",
              "    <tr>\n",
              "      <th>9997</th>\n",
              "      <td>36454</td>\n",
              "      <td>0.017000</td>\n",
              "      <td>0.020500</td>\n",
              "      <td>0.962500</td>\n",
              "    </tr>\n",
              "    <tr>\n",
              "      <th>9998</th>\n",
              "      <td>36455</td>\n",
              "      <td>0.582450</td>\n",
              "      <td>0.255017</td>\n",
              "      <td>0.162533</td>\n",
              "    </tr>\n",
              "    <tr>\n",
              "      <th>9999</th>\n",
              "      <td>36456</td>\n",
              "      <td>0.060300</td>\n",
              "      <td>0.250119</td>\n",
              "      <td>0.689581</td>\n",
              "    </tr>\n",
              "  </tbody>\n",
              "</table>\n",
              "<p>10000 rows × 4 columns</p>\n",
              "</div>"
            ],
            "text/plain": [
              "      index         0         1         2\n",
              "0     26457  0.044000  0.169000  0.787000\n",
              "1     26458  0.477000  0.297000  0.226000\n",
              "2     26459  0.069333  0.089667  0.841000\n",
              "3     26460  0.025883  0.028333  0.945783\n",
              "4     26461  0.091679  0.116600  0.791721\n",
              "...     ...       ...       ...       ...\n",
              "9995  36452  0.068333  0.375112  0.556555\n",
              "9996  36453  0.215000  0.581250  0.203750\n",
              "9997  36454  0.017000  0.020500  0.962500\n",
              "9998  36455  0.582450  0.255017  0.162533\n",
              "9999  36456  0.060300  0.250119  0.689581\n",
              "\n",
              "[10000 rows x 4 columns]"
            ]
          },
          "metadata": {
            "tags": []
          },
          "execution_count": 131
        }
      ]
    },
    {
      "cell_type": "code",
      "metadata": {
        "id": "7Jt7DhSBpD30"
      },
      "source": [
        "notebookname = \"submission_210413_0\""
      ],
      "execution_count": 132,
      "outputs": []
    },
    {
      "cell_type": "code",
      "metadata": {
        "id": "nyERAeeZo7M5"
      },
      "source": [
        "submission.to_csv(f'/content/drive/MyDrive/DACON/M_D_14/output/{notebookname}.csv', index=False) # 0.7272812144"
      ],
      "execution_count": 133,
      "outputs": []
    },
    {
      "cell_type": "code",
      "metadata": {
        "colab": {
          "base_uri": "https://localhost:8080/",
          "height": 402
        },
        "id": "rh4h3FXXouIo",
        "outputId": "77693912-8ae9-42d4-ab90-2ace203a40c1"
      },
      "source": [
        ""
      ],
      "execution_count": 130,
      "outputs": [
        {
          "output_type": "execute_result",
          "data": {
            "text/html": [
              "<div>\n",
              "<style scoped>\n",
              "    .dataframe tbody tr th:only-of-type {\n",
              "        vertical-align: middle;\n",
              "    }\n",
              "\n",
              "    .dataframe tbody tr th {\n",
              "        vertical-align: top;\n",
              "    }\n",
              "\n",
              "    .dataframe thead th {\n",
              "        text-align: right;\n",
              "    }\n",
              "</style>\n",
              "<table border=\"1\" class=\"dataframe\">\n",
              "  <thead>\n",
              "    <tr style=\"text-align: right;\">\n",
              "      <th></th>\n",
              "      <th>index</th>\n",
              "      <th>0</th>\n",
              "      <th>1</th>\n",
              "      <th>2</th>\n",
              "    </tr>\n",
              "  </thead>\n",
              "  <tbody>\n",
              "    <tr>\n",
              "      <th>0</th>\n",
              "      <td>26457</td>\n",
              "      <td>0</td>\n",
              "      <td>0</td>\n",
              "      <td>0</td>\n",
              "    </tr>\n",
              "    <tr>\n",
              "      <th>1</th>\n",
              "      <td>26458</td>\n",
              "      <td>0</td>\n",
              "      <td>0</td>\n",
              "      <td>0</td>\n",
              "    </tr>\n",
              "    <tr>\n",
              "      <th>2</th>\n",
              "      <td>26459</td>\n",
              "      <td>0</td>\n",
              "      <td>0</td>\n",
              "      <td>0</td>\n",
              "    </tr>\n",
              "    <tr>\n",
              "      <th>3</th>\n",
              "      <td>26460</td>\n",
              "      <td>0</td>\n",
              "      <td>0</td>\n",
              "      <td>0</td>\n",
              "    </tr>\n",
              "    <tr>\n",
              "      <th>4</th>\n",
              "      <td>26461</td>\n",
              "      <td>0</td>\n",
              "      <td>0</td>\n",
              "      <td>0</td>\n",
              "    </tr>\n",
              "    <tr>\n",
              "      <th>...</th>\n",
              "      <td>...</td>\n",
              "      <td>...</td>\n",
              "      <td>...</td>\n",
              "      <td>...</td>\n",
              "    </tr>\n",
              "    <tr>\n",
              "      <th>9995</th>\n",
              "      <td>36452</td>\n",
              "      <td>0</td>\n",
              "      <td>0</td>\n",
              "      <td>0</td>\n",
              "    </tr>\n",
              "    <tr>\n",
              "      <th>9996</th>\n",
              "      <td>36453</td>\n",
              "      <td>0</td>\n",
              "      <td>0</td>\n",
              "      <td>0</td>\n",
              "    </tr>\n",
              "    <tr>\n",
              "      <th>9997</th>\n",
              "      <td>36454</td>\n",
              "      <td>0</td>\n",
              "      <td>0</td>\n",
              "      <td>0</td>\n",
              "    </tr>\n",
              "    <tr>\n",
              "      <th>9998</th>\n",
              "      <td>36455</td>\n",
              "      <td>0</td>\n",
              "      <td>0</td>\n",
              "      <td>0</td>\n",
              "    </tr>\n",
              "    <tr>\n",
              "      <th>9999</th>\n",
              "      <td>36456</td>\n",
              "      <td>0</td>\n",
              "      <td>0</td>\n",
              "      <td>0</td>\n",
              "    </tr>\n",
              "  </tbody>\n",
              "</table>\n",
              "<p>10000 rows × 4 columns</p>\n",
              "</div>"
            ],
            "text/plain": [
              "      index  0  1  2\n",
              "0     26457  0  0  0\n",
              "1     26458  0  0  0\n",
              "2     26459  0  0  0\n",
              "3     26460  0  0  0\n",
              "4     26461  0  0  0\n",
              "...     ... .. .. ..\n",
              "9995  36452  0  0  0\n",
              "9996  36453  0  0  0\n",
              "9997  36454  0  0  0\n",
              "9998  36455  0  0  0\n",
              "9999  36456  0  0  0\n",
              "\n",
              "[10000 rows x 4 columns]"
            ]
          },
          "metadata": {
            "tags": []
          },
          "execution_count": 130
        }
      ]
    },
    {
      "cell_type": "code",
      "metadata": {
        "colab": {
          "base_uri": "https://localhost:8080/"
        },
        "id": "gjCrExMzoS_W",
        "outputId": "055b291b-c846-40a5-d75b-f8a375911f91"
      },
      "source": [
        ""
      ],
      "execution_count": 129,
      "outputs": [
        {
          "output_type": "execute_result",
          "data": {
            "text/plain": [
              "array([[0.044     , 0.169     , 0.787     ],\n",
              "       [0.477     , 0.297     , 0.226     ],\n",
              "       [0.06933333, 0.08966667, 0.841     ],\n",
              "       ...,\n",
              "       [0.017     , 0.0205    , 0.9625    ],\n",
              "       [0.58245   , 0.25501667, 0.16253333],\n",
              "       [0.0603    , 0.25011905, 0.68958095]])"
            ]
          },
          "metadata": {
            "tags": []
          },
          "execution_count": 129
        }
      ]
    },
    {
      "cell_type": "code",
      "metadata": {
        "colab": {
          "base_uri": "https://localhost:8080/",
          "height": 552
        },
        "id": "kgy_7S1aJnYR",
        "outputId": "7ff316de-441f-4a62-e08c-5669f2b31ec0"
      },
      "source": [
        "from plotnine import *\n",
        "\n",
        "ggplot(data=train) + geom_boxplot(mapping=aes(x='family_type',y='family_size'))\n",
        "\n",
        "ggplot(data=train) + geom_boxplot(mapping=aes(x='C_F',y='credit'))"
      ],
      "execution_count": null,
      "outputs": [
        {
          "output_type": "stream",
          "text": [
            "/usr/local/lib/python3.7/dist-packages/plotnine/utils.py:1246: FutureWarning: is_categorical is deprecated and will be removed in a future version.  Use is_categorical_dtype instead\n",
            "  if pdtypes.is_categorical(arr):\n",
            "/usr/local/lib/python3.7/dist-packages/plotnine/stats/stat_boxplot.py:86: FutureWarning: is_categorical is deprecated and will be removed in a future version.  Use is_categorical_dtype instead\n",
            "  if pdtypes.is_categorical(data['x']):\n"
          ],
          "name": "stderr"
        },
        {
          "output_type": "display_data",
          "data": {
            "image/png": "[encoded data removed]",
            "text/plain": [
              "<Figure size 640x480 with 1 Axes>"
            ]
          },
          "metadata": {
            "tags": []
          }
        },
        {
          "output_type": "execute_result",
          "data": {
            "text/plain": [
              "<ggplot: (8765760905661)>"
            ]
          },
          "metadata": {
            "tags": []
          },
          "execution_count": 23
        }
      ]
    },
    {
      "cell_type": "code",
      "metadata": {
        "id": "KCn7xmGVIANb"
      },
      "source": [
        "def one_hot(i, vec_len):\n",
        "  vector = [0]*vec_len\n",
        "  vector[i] = 1\n",
        "  return vector"
      ],
      "execution_count": null,
      "outputs": []
    }
  ]
}